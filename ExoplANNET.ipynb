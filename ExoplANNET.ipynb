{
 "cells": [
  {
   "cell_type": "markdown",
   "id": "8d0febfa",
   "metadata": {},
   "source": [
    "# ExoplANNET: A deep learning algorithm to detect and identify planetary signals in radial velocity data\n",
    "\n",
    "\n",
    "In this notebook it is possible to test a trained version of ExoplANNET, a neural network for detecting planetary signals.\n",
    "The network receives a periodogram and two values, indicating the position and power of the maximum peak and returns the probability that the peak is from a planetary signal.\n",
    "\n",
    "Test periodograms of set 3 (see paper) with their labels and FAP values are provided in the folder \"data\"."
   ]
  },
  {
   "cell_type": "code",
   "execution_count": 2,
   "id": "0fd6e720",
   "metadata": {},
   "outputs": [
    {
     "name": "stderr",
     "output_type": "stream",
     "text": [
      "2023-03-17 13:19:22.848972: I tensorflow/stream_executor/platform/default/dso_loader.cc:49] Successfully opened dynamic library libcudart.so.10.1\n"
     ]
    },
    {
     "name": "stdout",
     "output_type": "stream",
     "text": [
      "Num GPUs Available:  0\n"
     ]
    },
    {
     "name": "stderr",
     "output_type": "stream",
     "text": [
      "2023-03-17 13:19:23.932636: I tensorflow/compiler/jit/xla_cpu_device.cc:41] Not creating XLA devices, tf_xla_enable_xla_devices not set\n",
      "2023-03-17 13:19:23.933259: I tensorflow/stream_executor/platform/default/dso_loader.cc:49] Successfully opened dynamic library libcuda.so.1\n",
      "2023-03-17 13:19:23.971837: E tensorflow/stream_executor/cuda/cuda_driver.cc:328] failed call to cuInit: CUDA_ERROR_NO_DEVICE: no CUDA-capable device is detected\n",
      "2023-03-17 13:19:23.971877: I tensorflow/stream_executor/cuda/cuda_diagnostics.cc:169] retrieving CUDA diagnostic information for host: Proteo\n",
      "2023-03-17 13:19:23.971884: I tensorflow/stream_executor/cuda/cuda_diagnostics.cc:176] hostname: Proteo\n",
      "2023-03-17 13:19:23.972016: I tensorflow/stream_executor/cuda/cuda_diagnostics.cc:200] libcuda reported version is: 515.86.1\n",
      "2023-03-17 13:19:23.972040: I tensorflow/stream_executor/cuda/cuda_diagnostics.cc:204] kernel reported version is: 515.86.1\n",
      "2023-03-17 13:19:23.972046: I tensorflow/stream_executor/cuda/cuda_diagnostics.cc:310] kernel version seems to match DSO: 515.86.1\n"
     ]
    }
   ],
   "source": [
    "from tensorflow import keras\n",
    "from keras.models import Model\n",
    "from keras.models import load_model\n",
    "\n",
    "import tensorflow as tf\n",
    "import numpy as np\n",
    "\n",
    "import os\n",
    "\n",
    "#If we don't want GPU\n",
    "os.environ[\"CUDA_VISIBLE_DEVICES\"] = \"-1\"\n",
    "\n",
    "print(\"Num GPUs Available: \", len(tf.config.list_physical_devices('GPU')))\n"
   ]
  },
  {
   "cell_type": "code",
   "execution_count": 3,
   "id": "6c0fb1be",
   "metadata": {},
   "outputs": [
    {
     "name": "stderr",
     "output_type": "stream",
     "text": [
      "2023-03-17 13:28:54.846609: I tensorflow/core/platform/cpu_feature_guard.cc:142] This TensorFlow binary is optimized with oneAPI Deep Neural Network Library (oneDNN) to use the following CPU instructions in performance-critical operations:  SSE4.1 SSE4.2 AVX AVX2 FMA\n",
      "To enable them in other operations, rebuild TensorFlow with the appropriate compiler flags.\n",
      "2023-03-17 13:28:54.847300: I tensorflow/compiler/jit/xla_gpu_device.cc:99] Not creating XLA devices, tf_xla_enable_xla_devices not set\n"
     ]
    }
   ],
   "source": [
    "model = load_model(\"exoplANNET_trained.h5\")\n"
   ]
  },
  {
   "cell_type": "code",
   "execution_count": 4,
   "id": "7179fd4a",
   "metadata": {},
   "outputs": [],
   "source": [
    "# Example with the periodograms of the stars with 4 planets\n",
    "\n",
    "#inputs\n",
    "pg = np.load('data/periodograms_4.npy')\n",
    "peak_pow = np.load('data/pos_peak_pow_4.npy')\n",
    "\n",
    "#real labels\n",
    "labels = np.load('data/labels_4.npy')\n"
   ]
  },
  {
   "cell_type": "code",
   "execution_count": 5,
   "id": "4ba2cfb0",
   "metadata": {},
   "outputs": [
    {
     "name": "stderr",
     "output_type": "stream",
     "text": [
      "2023-03-17 13:28:59.894825: I tensorflow/compiler/mlir/mlir_graph_optimization_pass.cc:116] None of the MLIR optimization passes are enabled (registered 2)\n",
      "2023-03-17 13:28:59.897839: I tensorflow/core/platform/profile_utils/cpu_utils.cc:112] CPU Frequency: 3692955000 Hz\n"
     ]
    }
   ],
   "source": [
    "all_pg = pg.reshape(len(pg),len(pg[0]), 1)\n",
    "all_peaks_pow = peak_pow.reshape(len(peak_pow),len(peak_pow[0]), 1)\n",
    "\n",
    "#Get all the predictions for the dataset\n",
    "raw_pred_net = model.predict([all_pg,all_peaks_pow])\n"
   ]
  },
  {
   "cell_type": "code",
   "execution_count": 6,
   "id": "e509cce3",
   "metadata": {},
   "outputs": [
    {
     "data": {
      "text/plain": [
       "array([[0.9883752 ],\n",
       "       [0.9917642 ],\n",
       "       [0.556495  ],\n",
       "       ...,\n",
       "       [0.3444713 ],\n",
       "       [0.06461114],\n",
       "       [0.06630364]], dtype=float32)"
      ]
     },
     "execution_count": 6,
     "metadata": {},
     "output_type": "execute_result"
    }
   ],
   "source": [
    "raw_pred_net"
   ]
  },
  {
   "cell_type": "code",
   "execution_count": null,
   "id": "7d286e0c",
   "metadata": {},
   "outputs": [],
   "source": []
  }
 ],
 "metadata": {
  "kernelspec": {
   "display_name": "Python 3 (ipykernel)",
   "language": "python",
   "name": "python3"
  },
  "language_info": {
   "codemirror_mode": {
    "name": "ipython",
    "version": 3
   },
   "file_extension": ".py",
   "mimetype": "text/x-python",
   "name": "python",
   "nbconvert_exporter": "python",
   "pygments_lexer": "ipython3",
   "version": "3.9.16"
  }
 },
 "nbformat": 4,
 "nbformat_minor": 5
}
