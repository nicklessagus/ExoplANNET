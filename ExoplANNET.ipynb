{
 "cells": [
  {
   "cell_type": "markdown",
   "id": "8d0febfa",
   "metadata": {},
   "source": [
    "# ExoplANNET: A deep learning algorithm to detect and identify planetary signals in radial velocity data\n",
    "\n",
    "\n",
    "In this notebook it is possible to test a trained version of ExoplANNET (https://arxiv.org/abs/2303.09335), a neural network for detecting planetary signals in radial velocity data.\n",
    "\n",
    "The network receives a periodogram and two values, indicating the position and power of the maximum peak and returns the probability that the peak is from a planetary signal.\n",
    "\n",
    "Test periodograms of set 3 (see paper) with their labels and FAP values are provided in the folder \"data\"."
   ]
  },
  {
   "cell_type": "code",
   "execution_count": 30,
   "id": "0fd6e720",
   "metadata": {},
   "outputs": [
    {
     "name": "stdout",
     "output_type": "stream",
     "text": [
      "Num GPUs Available:  0\n"
     ]
    }
   ],
   "source": [
    "#It is necessary to have the keras library installed lo load the model\n",
    "from tensorflow import keras\n",
    "from keras.models import Model\n",
    "from keras.utils.vis_utils import plot_model\n",
    "from keras.models import load_model\n",
    "\n",
    "import tensorflow as tf\n",
    "import numpy as np\n",
    "\n",
    "import os\n",
    "\n",
    "#If we don't want GPU\n",
    "os.environ[\"CUDA_VISIBLE_DEVICES\"] = \"-1\"\n",
    "\n",
    "print(\"Num GPUs Available: \", len(tf.config.list_physical_devices('GPU')))\n"
   ]
  },
  {
   "cell_type": "code",
   "execution_count": 35,
   "id": "6c0fb1be",
   "metadata": {},
   "outputs": [
    {
     "name": "stdout",
     "output_type": "stream",
     "text": [
      "Model: \"model_3\"\n",
      "__________________________________________________________________________________________________\n",
      "Layer (type)                    Output Shape         Param #     Connected to                     \n",
      "==================================================================================================\n",
      "input_5 (InputLayer)            [(None, 990, 1)]     0                                            \n",
      "__________________________________________________________________________________________________\n",
      "primera (Conv1D)                (None, 990, 32)      96          input_5[0][0]                    \n",
      "__________________________________________________________________________________________________\n",
      "max_pooling1d_7 (MaxPooling1D)  (None, 495, 32)      0           primera[0][0]                    \n",
      "__________________________________________________________________________________________________\n",
      "conv1d_5 (Conv1D)               (None, 495, 32)      6176        max_pooling1d_7[0][0]            \n",
      "__________________________________________________________________________________________________\n",
      "max_pooling1d_8 (MaxPooling1D)  (None, 247, 32)      0           conv1d_5[0][0]                   \n",
      "__________________________________________________________________________________________________\n",
      "conv1d_6 (Conv1D)               (None, 247, 32)      8224        max_pooling1d_8[0][0]            \n",
      "__________________________________________________________________________________________________\n",
      "input_6 (InputLayer)            [(None, 2, 1)]       0                                            \n",
      "__________________________________________________________________________________________________\n",
      "max_pooling1d_9 (MaxPooling1D)  (None, 123, 32)      0           conv1d_6[0][0]                   \n",
      "__________________________________________________________________________________________________\n",
      "dense_7 (Dense)                 (None, 2, 2)         4           input_6[0][0]                    \n",
      "__________________________________________________________________________________________________\n",
      "flatten_5 (Flatten)             (None, 3936)         0           max_pooling1d_9[0][0]            \n",
      "__________________________________________________________________________________________________\n",
      "flatten_6 (Flatten)             (None, 4)            0           dense_7[0][0]                    \n",
      "__________________________________________________________________________________________________\n",
      "concatenate_3 (Concatenate)     (None, 3940)         0           flatten_5[0][0]                  \n",
      "                                                                 flatten_6[0][0]                  \n",
      "__________________________________________________________________________________________________\n",
      "dense_8 (Dense)                 (None, 32)           126112      concatenate_3[0][0]              \n",
      "__________________________________________________________________________________________________\n",
      "dense_9 (Dense)                 (None, 32)           1056        dense_8[0][0]                    \n",
      "__________________________________________________________________________________________________\n",
      "dropout_3 (Dropout)             (None, 32)           0           dense_9[0][0]                    \n",
      "__________________________________________________________________________________________________\n",
      "out1 (Dense)                    (None, 1)            33          dropout_3[0][0]                  \n",
      "==================================================================================================\n",
      "Total params: 141,701\n",
      "Trainable params: 141,701\n",
      "Non-trainable params: 0\n",
      "__________________________________________________________________________________________________\n",
      "None\n"
     ]
    }
   ],
   "source": [
    "#Getting the trained model\n",
    "\n",
    "model = load_model(\"exoplANNET_trained.h5\")\n",
    "print(model.summary())"
   ]
  },
  {
   "cell_type": "code",
   "execution_count": 32,
   "id": "7179fd4a",
   "metadata": {},
   "outputs": [],
   "source": [
    "'''\n",
    "Example with the periodograms of the stars with 4 planets\n",
    "In the folder /data, it could be find:\n",
    "\n",
    "periodograms_X.npy = Periodograms from the stars with X planets\n",
    "pos_peak_pow_X.npy = Position and power of the periodogram maximum peak (for easy use)\n",
    "\n",
    "faps_X.npy = FAP value for the maximum peaks of each periodogram\n",
    "labels_X.npy = Labels of each periodogram (0=No planet, 1=Planet)\n",
    "\n",
    "'''\n",
    "\n",
    "#inputs\n",
    "pg = np.load('data/periodograms_4.npy')\n",
    "peak_pow = np.load('data/pos_peak_pow_4.npy')\n",
    "\n",
    "#real labels\n",
    "labels = np.load('data/labels_4.npy')\n"
   ]
  },
  {
   "cell_type": "code",
   "execution_count": 37,
   "id": "4ba2cfb0",
   "metadata": {},
   "outputs": [],
   "source": [
    "#Reshape for the NN\n",
    "all_pg = pg.reshape(len(pg),len(pg[0]), 1)\n",
    "all_peaks_pow = peak_pow.reshape(len(peak_pow),len(peak_pow[0]), 1)\n",
    "\n",
    "#Get all the predictions for the dataset\n",
    "pred_net = model.predict([all_pg,all_peaks_pow])\n"
   ]
  },
  {
   "cell_type": "code",
   "execution_count": 38,
   "id": "e509cce3",
   "metadata": {},
   "outputs": [
    {
     "name": "stdout",
     "output_type": "stream",
     "text": [
      "[[0.9883752 ]\n",
      " [0.9917642 ]\n",
      " [0.556495  ]\n",
      " ...\n",
      " [0.3444713 ]\n",
      " [0.06461114]\n",
      " [0.06630364]]\n"
     ]
    }
   ],
   "source": [
    "print(pred_net)"
   ]
  },
  {
   "cell_type": "code",
   "execution_count": null,
   "id": "7d286e0c",
   "metadata": {},
   "outputs": [],
   "source": [
    "##in progress..."
   ]
  },
  {
   "cell_type": "code",
   "execution_count": null,
   "id": "44dbdb00",
   "metadata": {},
   "outputs": [],
   "source": []
  }
 ],
 "metadata": {
  "kernelspec": {
   "display_name": "Python 3 (ipykernel)",
   "language": "python",
   "name": "python3"
  },
  "language_info": {
   "codemirror_mode": {
    "name": "ipython",
    "version": 3
   },
   "file_extension": ".py",
   "mimetype": "text/x-python",
   "name": "python",
   "nbconvert_exporter": "python",
   "pygments_lexer": "ipython3",
   "version": "3.9.16"
  }
 },
 "nbformat": 4,
 "nbformat_minor": 5
}
